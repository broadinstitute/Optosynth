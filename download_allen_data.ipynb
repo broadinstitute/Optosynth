{
 "cells": [
  {
   "cell_type": "markdown",
   "metadata": {},
   "source": [
    "# Cache Allen Brain single-neuron data locally"
   ]
  },
  {
   "cell_type": "code",
   "execution_count": 1,
   "metadata": {},
   "outputs": [],
   "source": [
    "import os\n",
    "import sys\n",
    "notebook_path = os.path.abspath('')\n",
    "sources_path = os.path.abspath(os.path.join(notebook_path, 'sources'))\n",
    "sys.path.insert(0, sources_path)\n",
    "\n",
    "import numpy as np"
   ]
  },
  {
   "cell_type": "code",
   "execution_count": 2,
   "metadata": {},
   "outputs": [],
   "source": [
    "optosynth_data_path = '/home/jupyter/mb-ml-data/Optosynth'"
   ]
  },
  {
   "cell_type": "code",
   "execution_count": 3,
   "metadata": {},
   "outputs": [
    {
     "name": "stdout",
     "output_type": "stream",
     "text": [
      "Mouse cells with reconstruction: 485\n"
     ]
    }
   ],
   "source": [
    "from allensdk.core.cell_types_cache import CellTypesCache\n",
    "from allensdk.api.queries.cell_types_api import CellTypesApi\n",
    "from allensdk.core.cell_types_cache import ReporterStatus as RS\n",
    "\n",
    "ctc = CellTypesCache(manifest_file=os.path.join(optosynth_data_path, 'allen_data', 'manifest.json'))\n",
    "\n",
    "# mouse neurons with morphology data and reconstruction\n",
    "cells = ctc.get_cells(\n",
    "    species=[CellTypesApi.MOUSE],\n",
    "    require_reconstruction = True,\n",
    "    require_morphology = True)\n",
    "\n",
    "cell_ids = [cell['id'] for cell in cells]\n",
    "\n",
    "print(\"Mouse cells with reconstruction: %d\" % len(cells))"
   ]
  },
  {
   "cell_type": "code",
   "execution_count": null,
   "metadata": {},
   "outputs": [],
   "source": [
    "bad_cell_ids = []\n",
    "for i, cell_id in enumerate(cell_ids):\n",
    "    if i % 20 == 0:\n",
    "        print(i)\n",
    "    try:\n",
    "        ctc.get_ephys_features(cell_id);\n",
    "        ctc.get_ephys_sweeps(cell_id);\n",
    "        ctc.get_ephys_data(cell_id);\n",
    "        ctc.get_morphology_features(cell_id);\n",
    "        ctc.get_reconstruction(cell_id);\n",
    "        ctc.get_reconstruction_markers(cell_id);\n",
    "    except:\n",
    "        bad_cell_ids.append(cell_id)"
   ]
  },
  {
   "cell_type": "code",
   "execution_count": 111,
   "metadata": {},
   "outputs": [],
   "source": [
    "good_cell_ids = np.asarray(list(set(cell_ids).difference(bad_cell_ids)))\n",
    "np.save(\n",
    "    os.path.join(optosynth_data_path, 'allen_data', 'good_cell_ids.npy'),\n",
    "    good_cell_ids)"
   ]
  }
 ],
 "metadata": {
  "kernelspec": {
   "display_name": "Python 3",
   "language": "python",
   "name": "python3"
  },
  "language_info": {
   "codemirror_mode": {
    "name": "ipython",
    "version": 3
   },
   "file_extension": ".py",
   "mimetype": "text/x-python",
   "name": "python",
   "nbconvert_exporter": "python",
   "pygments_lexer": "ipython3",
   "version": "3.7.6"
  }
 },
 "nbformat": 4,
 "nbformat_minor": 4
}
